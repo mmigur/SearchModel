{
 "cells": [
  {
   "cell_type": "code",
   "execution_count": 6,
   "metadata": {},
   "outputs": [],
   "source": [
    "import requests\n",
    "import re\n",
    "import fake_useragent\n",
    "from bs4 import BeautifulSoup\n",
    "\n",
    "from os import makedirs"
   ]
  },
  {
   "attachments": {},
   "cell_type": "markdown",
   "metadata": {},
   "source": [
    "## Константы"
   ]
  },
  {
   "cell_type": "code",
   "execution_count": 13,
   "metadata": {},
   "outputs": [],
   "source": [
    "STATUS_OK = 200\n",
    "USER_AGENT = fake_useragent.UserAgent()\n",
    "MAIN_URL = f\"https://www.kinopoisk.ru/\""
   ]
  },
  {
   "attachments": {},
   "cell_type": "markdown",
   "metadata": {},
   "source": [
    "## Вспомогательный функции"
   ]
  },
  {
   "cell_type": "code",
   "execution_count": 14,
   "metadata": {},
   "outputs": [],
   "source": [
    "def get_page_text(\n",
    "        url: str, \n",
    "        user_agent: fake_useragent.UserAgent, \n",
    "        error_log=True\n",
    "    ) -> str:\n",
    "    headers = {\"user_agent\": user_agent.random}\n",
    "    response = requests.get(\n",
    "        url=url,\n",
    "        headers=headers,\n",
    "        allow_redirects=True\n",
    "    )\n",
    "\n",
    "    if response.status_code == STATUS_OK:\n",
    "        return response.text\n",
    "    elif error_log:\n",
    "        print(f\"Error, response code: {response.status_code}\\n URL: {url}\")\n",
    "\n",
    "    return None\n",
    "\n",
    "\n",
    "def clear_link(page_link: str) -> str:\n",
    "    page_link = re.sub(r\"^\\/\", '', page_link)\n",
    "    page_link = re.sub(r\"[\\#\\?].+\", '', page_link)\n",
    "    return page_link\n",
    "\n",
    "def get_page_links(soup: BeautifulSoup, main_url: str) -> set:\n",
    "    links = set()\n",
    "    for row in soup.find_all('a'):\n",
    "        if not row.has_attr(\"href\"):\n",
    "            continue\n",
    "\n",
    "        page_link = row.attrs[\"href\"]\n",
    "\n",
    "        if re.search(\"^(http)\", page_link):\n",
    "            if main_url not in page_link or main_url == page_link:\n",
    "                continue\n",
    "        \n",
    "        page_link = clear_link(page_link=page_link)\n",
    "\n",
    "        if len(page_link) == 0:\n",
    "            continue\n",
    "\n",
    "        links.add(main_url + page_link)\n",
    "\n",
    "    return links"
   ]
  },
  {
   "cell_type": "code",
   "execution_count": 15,
   "metadata": {},
   "outputs": [],
   "source": [
    "page_text = get_page_text(MAIN_URL, USER_AGENT)\n",
    "soup = BeautifulSoup(page_text)\n",
    "\n",
    "all_links = get_page_links(soup=soup, main_url=MAIN_URL)\n",
    "process_link = all_links\n",
    "\n",
    "while True:\n",
    "    new_links = set()\n",
    "\n",
    "    for link in process_link:\n",
    "        page_text = get_page_text(url=link, user_agent=USER_AGENT)\n",
    "\n",
    "        soup = BeautifulSoup(page_text)\n",
    "        links = get_page_links(soup=soup, main_url=MAIN_URL)\n",
    "        links = links.difference(all_links, new_links)\n",
    "\n",
    "        new_links = new_links.union(links)\n",
    "\n",
    "    if len(new_links) == 0:\n",
    "        break\n",
    "\n",
    "    all_links = all_links.union(new_links)\n",
    "    process_links = new_links"
   ]
  },
  {
   "cell_type": "code",
   "execution_count": null,
   "metadata": {},
   "outputs": [],
   "source": [
    "\"../repositories/page_texts/\"\n",
    "\"../repositories/row_pages/\""
   ]
  }
 ],
 "metadata": {
  "kernelspec": {
   "display_name": "base",
   "language": "python",
   "name": "python3"
  },
  "language_info": {
   "codemirror_mode": {
    "name": "ipython",
    "version": 3
   },
   "file_extension": ".py",
   "mimetype": "text/x-python",
   "name": "python",
   "nbconvert_exporter": "python",
   "pygments_lexer": "ipython3",
   "version": "3.12.0"
  },
  "orig_nbformat": 4
 },
 "nbformat": 4,
 "nbformat_minor": 2
}
