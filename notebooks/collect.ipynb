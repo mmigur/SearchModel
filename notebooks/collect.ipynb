{
 "cells": [
  {
   "cell_type": "code",
   "execution_count": 1,
   "metadata": {},
   "outputs": [],
   "source": [
    "import requests\n",
    "import re\n",
    "import fake_useragent\n",
    "from bs4 import BeautifulSoup\n",
    "\n",
    "from os import makedirs"
   ]
  },
  {
   "attachments": {},
   "cell_type": "markdown",
   "metadata": {},
   "source": [
    "## Константы"
   ]
  },
  {
   "cell_type": "code",
   "execution_count": 2,
   "metadata": {},
   "outputs": [],
   "source": [
    "STATUS_OK = 200\n",
    "USER_AGENT = 'Mozilla/5.0 (Macintosh; Intel Mac OS X 10_9_3) AppleWebKit/537.36 (KHTML, like Gecko) Chrome/35.0.1916.47 Safari/537.36'\n",
    "MAIN_URL = f\"https://www.kinopoisk.ru/\""
   ]
  },
  {
   "attachments": {},
   "cell_type": "markdown",
   "metadata": {},
   "source": [
    "## Вспомогательный функции"
   ]
  },
  {
   "cell_type": "code",
   "execution_count": 3,
   "metadata": {},
   "outputs": [],
   "source": [
    "def get_page_text(\n",
    "        url: str, \n",
    "        user_agent: str, \n",
    "        error_log=True\n",
    "    ) -> str:\n",
    "    headers = {'user-agent': user_agent}\n",
    "    response = requests.get(\n",
    "        url=url,\n",
    "        headers=headers,\n",
    "        allow_redirects=True\n",
    "    )\n",
    "\n",
    "    if response.status_code == STATUS_OK:\n",
    "        return response.text\n",
    "    elif error_log:\n",
    "        print(f\"Error, response code: {response.status_code}\\n URL: {url}\")\n",
    "\n",
    "    return None\n",
    "\n",
    "\n",
    "def clear_link(page_link: str) -> str:\n",
    "    page_link = re.sub(r\"^\\/\", '', page_link)\n",
    "    page_link = re.sub(r\"[\\#\\?].+\", '', page_link)\n",
    "    return page_link\n",
    "\n",
    "def get_page_links(soup: BeautifulSoup, main_url: str) -> set:\n",
    "    links = set()\n",
    "    for row in soup.find_all('a'):\n",
    "        if not row.has_attr(\"href\"):\n",
    "            continue\n",
    "\n",
    "        page_link = row.attrs[\"href\"]\n",
    "\n",
    "        if re.search(r\"^(http)\", page_link):\n",
    "            if (main_url not in page_link) or (main_url == page_link):\n",
    "                continue\n",
    "        \n",
    "        page_link = clear_link(page_link=page_link)\n",
    "\n",
    "        if len(page_link) == 0:\n",
    "            continue\n",
    "\n",
    "        links.add(main_url + page_link)\n",
    "\n",
    "    return links"
   ]
  },
  {
   "cell_type": "code",
   "execution_count": 7,
   "metadata": {},
   "outputs": [
    {
     "name": "stderr",
     "output_type": "stream",
     "text": [
      "<>:10: SyntaxWarning: invalid escape sequence '\\s'\n",
      "<>:11: SyntaxWarning: invalid escape sequence '\\s'\n",
      "<>:10: SyntaxWarning: invalid escape sequence '\\s'\n",
      "<>:11: SyntaxWarning: invalid escape sequence '\\s'\n",
      "/var/folders/ln/l54hjc713kxgxkw6rfxxgyh00000gn/T/ipykernel_71747/392915334.py:10: SyntaxWarning: invalid escape sequence '\\s'\n",
      "  title = re.sub('[^А-ЯЁа-яё0-9\\s]', ' ', post.text)\n",
      "/var/folders/ln/l54hjc713kxgxkw6rfxxgyh00000gn/T/ipykernel_71747/392915334.py:11: SyntaxWarning: invalid escape sequence '\\s'\n",
      "  title = re.sub('\\s\\s+', ' ', title)\n"
     ]
    }
   ],
   "source": [
    "for page in range(3, 10):\n",
    "    url = f\"https://www.kinopoisk.ru/media/?page={page}\"\n",
    "    page_text = get_page_text(url=url, user_agent=USER_AGENT)\n",
    "\n",
    "    soup = BeautifulSoup(page_text)\n",
    "    posts_list = soup.find_all(\"div\", {\"class\": \"posts-grid__main-section-column\"})\n",
    "\n",
    "    for post in posts_list:\n",
    "        link = post.find(\"a\").attrs[\"href\"]\n",
    "        title = re.sub('[^А-ЯЁа-яё0-9\\s]', ' ', post.text)\n",
    "        title = re.sub('\\s\\s+', ' ', title)\n",
    "\n",
    "        page_url = \"https://www.kinopoisk.ru\" + link\n",
    "        clean_path = '/'.join([data for data in page_url.split(\"/\")[2:] if len(data) > 0])\n",
    "\n",
    "        page_text = get_page_text(page_url, USER_AGENT)\n",
    "\n",
    "        if page_text is None:\n",
    "            continue\n",
    "\n",
    "        dir_path = '../repositories/raw_pages/' + '/'.join(clean_path.split('/')[:-1])\n",
    "        makedirs(dir_path, exist_ok=True)\n",
    "        with open(dir_path + '/' + clean_path.split('/')[-1] + '.html', 'w', encoding='utf-8') as f:\n",
    "            f.write(page_text)"
   ]
  },
  {
   "cell_type": "code",
   "execution_count": 73,
   "metadata": {},
   "outputs": [
    {
     "name": "stdout",
     "output_type": "stream",
     "text": [
      "Error, response code: 404\n",
      " URL: https://www.kinopoisk.ru/media/media/article/4008705/\n"
     ]
    },
    {
     "ename": "TypeError",
     "evalue": "object of type 'NoneType' has no len()",
     "output_type": "error",
     "traceback": [
      "\u001b[0;31m---------------------------------------------------------------------------\u001b[0m",
      "\u001b[0;31mTypeError\u001b[0m                                 Traceback (most recent call last)",
      "Cell \u001b[0;32mIn[73], line 13\u001b[0m\n\u001b[1;32m     10\u001b[0m \u001b[39mfor\u001b[39;00m link \u001b[39min\u001b[39;00m process_link:\n\u001b[1;32m     11\u001b[0m     page_text \u001b[39m=\u001b[39m get_page_text(url\u001b[39m=\u001b[39mlink, user_agent\u001b[39m=\u001b[39mUSER_AGENT)\n\u001b[0;32m---> 13\u001b[0m     soup \u001b[39m=\u001b[39m BeautifulSoup(page_text)\n\u001b[1;32m     14\u001b[0m     links \u001b[39m=\u001b[39m get_page_links(soup\u001b[39m=\u001b[39msoup, main_url\u001b[39m=\u001b[39mMAIN_URL)\n\u001b[1;32m     15\u001b[0m     links \u001b[39m=\u001b[39m links\u001b[39m.\u001b[39mdifference(all_links, new_links)\n",
      "File \u001b[0;32m~/Library/Caches/pypoetry/virtualenvs/searchmodel-fbYcB3Uw-py3.12/lib/python3.12/site-packages/bs4/__init__.py:315\u001b[0m, in \u001b[0;36mBeautifulSoup.__init__\u001b[0;34m(self, markup, features, builder, parse_only, from_encoding, exclude_encodings, element_classes, **kwargs)\u001b[0m\n\u001b[1;32m    313\u001b[0m \u001b[39mif\u001b[39;00m \u001b[39mhasattr\u001b[39m(markup, \u001b[39m'\u001b[39m\u001b[39mread\u001b[39m\u001b[39m'\u001b[39m):        \u001b[39m# It's a file-type object.\u001b[39;00m\n\u001b[1;32m    314\u001b[0m     markup \u001b[39m=\u001b[39m markup\u001b[39m.\u001b[39mread()\n\u001b[0;32m--> 315\u001b[0m \u001b[39melif\u001b[39;00m \u001b[39mlen\u001b[39;49m(markup) \u001b[39m<\u001b[39m\u001b[39m=\u001b[39m \u001b[39m256\u001b[39m \u001b[39mand\u001b[39;00m (\n\u001b[1;32m    316\u001b[0m         (\u001b[39misinstance\u001b[39m(markup, \u001b[39mbytes\u001b[39m) \u001b[39mand\u001b[39;00m \u001b[39mnot\u001b[39;00m \u001b[39mb\u001b[39m\u001b[39m'\u001b[39m\u001b[39m<\u001b[39m\u001b[39m'\u001b[39m \u001b[39min\u001b[39;00m markup)\n\u001b[1;32m    317\u001b[0m         \u001b[39mor\u001b[39;00m (\u001b[39misinstance\u001b[39m(markup, \u001b[39mstr\u001b[39m) \u001b[39mand\u001b[39;00m \u001b[39mnot\u001b[39;00m \u001b[39m'\u001b[39m\u001b[39m<\u001b[39m\u001b[39m'\u001b[39m \u001b[39min\u001b[39;00m markup)\n\u001b[1;32m    318\u001b[0m ):\n\u001b[1;32m    319\u001b[0m     \u001b[39m# Issue warnings for a couple beginner problems\u001b[39;00m\n\u001b[1;32m    320\u001b[0m     \u001b[39m# involving passing non-markup to Beautiful Soup.\u001b[39;00m\n\u001b[1;32m    321\u001b[0m     \u001b[39m# Beautiful Soup will still parse the input as markup,\u001b[39;00m\n\u001b[1;32m    322\u001b[0m     \u001b[39m# since that is sometimes the intended behavior.\u001b[39;00m\n\u001b[1;32m    323\u001b[0m     \u001b[39mif\u001b[39;00m \u001b[39mnot\u001b[39;00m \u001b[39mself\u001b[39m\u001b[39m.\u001b[39m_markup_is_url(markup):\n\u001b[1;32m    324\u001b[0m         \u001b[39mself\u001b[39m\u001b[39m.\u001b[39m_markup_resembles_filename(markup)                \n",
      "\u001b[0;31mTypeError\u001b[0m: object of type 'NoneType' has no len()"
     ]
    }
   ],
   "source": [
    "page_text = get_page_text(url=MAIN_URL, user_agent=USER_AGENT)\n",
    "soup = BeautifulSoup(page_text)\n",
    "\n",
    "all_links = get_page_links(soup=soup, main_url=MAIN_URL)\n",
    "process_link = all_links\n",
    "\n",
    "while True:\n",
    "    new_links = set()\n",
    "\n",
    "    for link in process_link:\n",
    "        page_text = get_page_text(url=link, user_agent=USER_AGENT)\n",
    "\n",
    "        soup = BeautifulSoup(page_text)\n",
    "        links = get_page_links(soup=soup, main_url=MAIN_URL)\n",
    "        links = links.difference(all_links, new_links)\n",
    "\n",
    "        new_links = new_links.union(links)\n",
    "\n",
    "    if len(new_links) == 0:\n",
    "        break\n",
    "\n",
    "    all_links = all_links.union(new_links)\n",
    "    process_links = new_links"
   ]
  },
  {
   "cell_type": "code",
   "execution_count": null,
   "metadata": {},
   "outputs": [],
   "source": []
  },
  {
   "cell_type": "code",
   "execution_count": null,
   "metadata": {},
   "outputs": [],
   "source": []
  }
 ],
 "metadata": {
  "kernelspec": {
   "display_name": "base",
   "language": "python",
   "name": "python3"
  },
  "language_info": {
   "codemirror_mode": {
    "name": "ipython",
    "version": 3
   },
   "file_extension": ".py",
   "mimetype": "text/x-python",
   "name": "python",
   "nbconvert_exporter": "python",
   "pygments_lexer": "ipython3",
   "version": "3.12.0"
  },
  "orig_nbformat": 4
 },
 "nbformat": 4,
 "nbformat_minor": 2
}
